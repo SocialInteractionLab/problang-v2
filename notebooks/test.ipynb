{
 "cells": [
  {
   "cell_type": "code",
   "execution_count": null,
   "id": "1f1c4a5f",
   "metadata": {},
   "outputs": [],
   "source": [
    "from memo import memo\n",
    "import jax\n",
    "import jax.numpy as np\n",
    "from enum import IntEnum\n",
    "\n",
    "# possible states of the world\n",
    "State = np.arange(4)\n",
    "\n",
    "# possible utterances\n",
    "class Utterance(IntEnum):\n",
    "  ALL = 0\n",
    "  SOME = 1\n",
    "  NONE = 2\n",
    "\n",
    "@jax.jit\n",
    "def meaning(utterance, state):\n",
    "    return np.array([\n",
    "        state == 3,  # ALL: true if 3/3 apples are red\n",
    "        state >= 1,  # SOME: true if at least one is red\n",
    "        state == 0,  # NONE: true if 0/3 apples are red\n",
    "    ])[utterance]\n",
    "\n",
    "@memo\n",
    "def L0[_u: Utterance, _s: State]():\n",
    "    listener: knows(_u)\n",
    "    listener: chooses(s in State, wpp=meaning(_u, s))\n",
    "    return Pr[listener.s == _s]\n",
    "\n",
    "L0()"
   ]
  },
  {
   "cell_type": "code",
   "execution_count": null,
   "id": "b1ec7f66",
   "metadata": {},
   "outputs": [],
   "source": []
  }
 ],
 "metadata": {
  "kernelspec": {
   "display_name": "probLang-memo",
   "language": "python",
   "name": "python3"
  },
  "language_info": {
   "name": "python",
   "version": "3.12.11"
  }
 },
 "nbformat": 4,
 "nbformat_minor": 5
}
